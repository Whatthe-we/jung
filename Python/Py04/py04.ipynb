{
  "nbformat": 4,
  "nbformat_minor": 0,
  "metadata": {
    "colab": {
      "provenance": [],
      "authorship_tag": "ABX9TyOqioSPvt5htr4ImXaEvvzO",
      "include_colab_link": true
    },
    "kernelspec": {
      "name": "python3",
      "display_name": "Python 3"
    },
    "language_info": {
      "name": "python"
    }
  },
  "cells": [
    {
      "cell_type": "markdown",
      "metadata": {
        "id": "view-in-github",
        "colab_type": "text"
      },
      "source": [
        "<a href=\"https://colab.research.google.com/github/haedongmu/AIFFEL_quest_cr/blob/main/Python/Py04/py04.ipynb\" target=\"_parent\"><img src=\"https://colab.research.google.com/assets/colab-badge.svg\" alt=\"Open In Colab\"/></a>"
      ]
    },
    {
      "cell_type": "code",
      "execution_count": 15,
      "metadata": {
        "colab": {
          "base_uri": "https://localhost:8080/"
        },
        "id": "XSZHKotiJ2Tl",
        "outputId": "1759cdfe-84c2-4ef0-92a9-452dd72b6773"
      },
      "outputs": [
        {
          "output_type": "stream",
          "name": "stdout",
          "text": [
            "첫 번째 정수를 입력하세요: 4\n",
            "연산자를 입력하세요: **\n",
            "두 번째 정수를 입력하세요: 2\n",
            "Result: 16.0\n",
            "계속 계산하시겠습니까? (y/n): ㅜ\n",
            "y 또는 n만 입력해주세요.\n",
            "계속 계산하시겠습니까? (y/n): n\n",
            "프로그램을 종료합니다.\n"
          ]
        }
      ],
      "source": [
        "import math as m\n",
        "import re\n",
        "\n",
        "#데이터를 입력받는 부분 - (1) 오류처리\n",
        "#사칙연산을 실행하는 부분 - (2) 클로저 사용\n",
        "\n",
        "def closure_cal():\n",
        "    def plus(a, b):\n",
        "        return a + b\n",
        "\n",
        "    def minus(a, b):\n",
        "        return a - b\n",
        "\n",
        "    def multiply(a, b):\n",
        "        return a * b\n",
        "\n",
        "    def divide(a, b):\n",
        "        if b == 0:\n",
        "            raise ZeroDivisionError(\"Division by zero is not allowed.\")\n",
        "        return a / b\n",
        "\n",
        "    def power(a, b):\n",
        "        return m.pow(a, b)\n",
        "\n",
        "    def cal(input_dict):\n",
        "        num1 = input_dict['num1']\n",
        "        operator = input_dict['operator']\n",
        "        num2 = input_dict['num2']\n",
        "\n",
        "        try:\n",
        "            if operator == '+':\n",
        "                result = plus(num1, num2)\n",
        "            elif operator == '-':\n",
        "                result = minus(num1, num2)\n",
        "            elif operator == '*':\n",
        "                result = multiply(num1, num2)\n",
        "            elif operator == '/':\n",
        "                result = divide(num1, num2)\n",
        "            elif operator == '**':\n",
        "                result = power(num1, num2)\n",
        "            else:\n",
        "                raise ValueError(f\"Invalid operator: {operator}\")\n",
        "\n",
        "            print(f\"Result: {result}\")\n",
        "            return result\n",
        "        except ZeroDivisionError as e:\n",
        "            print(f\"Error: {e}\")\n",
        "        except Exception as e:\n",
        "            print(f\"An error occurred: {e}\")\n",
        "\n",
        "    return cal\n",
        "\n",
        "# 정수 입력 체크 함수\n",
        "def check_integer(user_input):\n",
        "    \"\"\"Check if the user input is an integer.\"\"\"\n",
        "    if not re.fullmatch(r'-?\\d+', user_input):\n",
        "        raise ValueError(f\"Invalid input: '{user_input}' is not an integer.\")\n",
        "    return True\n",
        "\n",
        "# 연산자 입력 체크 함수\n",
        "def check_operator(input_str):\n",
        "    valid_operators = {\"+\", \"-\", \"*\", \"/\", \"**\"}\n",
        "    return input_str in valid_operators\n",
        "\n",
        "# 데이터 입력받는 부분\n",
        "def input_data():\n",
        "    while True:\n",
        "        input_dict = {}\n",
        "        try:\n",
        "            num1_input = input('첫 번째 정수를 입력하세요: ')\n",
        "            check_integer(num1_input)  # 정수 여부 확인\n",
        "            input_dict['num1'] = int(num1_input)\n",
        "\n",
        "            operator = input('연산자를 입력하세요: ')\n",
        "            if not check_operator(operator):\n",
        "                raise ValueError(f\"Invalid operator: '{operator}'. Please use +, -, *, /, or **.\")\n",
        "            input_dict['operator'] = operator\n",
        "\n",
        "            num2_input = input('두 번째 정수를 입력하세요: ')\n",
        "            check_integer(num2_input)  # 정수 여부 확인\n",
        "            input_dict['num2'] = int(num2_input)\n",
        "\n",
        "            exec_cal = closure_cal()\n",
        "            exec_cal(input_dict)\n",
        "\n",
        "        except ValueError as e:\n",
        "            print(e)\n",
        "            print(\"다시 입력해주세요.\")\n",
        "            continue\n",
        "\n",
        "        # 계산 후 계속할지 묻기\n",
        "        while True:\n",
        "            continue_calculation = input(\"계속 계산하시겠습니까? (y/n): \").strip().lower()\n",
        "            if continue_calculation == 'y':\n",
        "                break  # 새 계산 시작\n",
        "            elif continue_calculation == 'n':\n",
        "                print(\"프로그램을 종료합니다.\")\n",
        "                return  # 프로그램 종료\n",
        "            else:\n",
        "                print(\"y 또는 n만 입력해주세요.\")\n",
        "\n",
        "input_data()\n",
        "\n",
        "\n",
        "\n",
        "\n",
        "\n",
        "\n"
      ]
    },
    {
      "cell_type": "markdown",
      "source": [],
      "metadata": {
        "id": "bRA_wANZlg3K"
      }
    },
    {
      "cell_type": "markdown",
      "source": [
        "오늘은 프로그램이 예전보다 많이 복잡해졌습니다. 그래서 모듈을 분리해서 둘이서 진행하고자 하였으나, 이번 회차까지는 각자 코딩을 진행하기로 하였습니다. 위의 코드는 둘이서 코딩을 진행하는 것으로 가정하여, 전체 코드를 2가지로 나누어서 진행하였습니다. 혼자하기에는 시간이 오래 걸리는 작업이었습니다."
      ],
      "metadata": {
        "id": "05qzxZM9mt3k"
      }
    }
  ]
}